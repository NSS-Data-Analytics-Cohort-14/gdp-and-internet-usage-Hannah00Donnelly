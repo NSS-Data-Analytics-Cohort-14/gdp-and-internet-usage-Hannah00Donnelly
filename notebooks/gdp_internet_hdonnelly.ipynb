{
 "cells": [
  {
   "cell_type": "markdown",
   "id": "804ac698-1c61-4830-975d-38d417013034",
   "metadata": {},
   "source": [
    "## This is a example of how you will be doing projects in python.\n",
    "### Use markdown cells -OR- comments in cells to place AT LEAST the question number you are working on. "
   ]
  },
  {
   "cell_type": "markdown",
   "id": "90123210-b670-4d62-bbda-010eeac5dba5",
   "metadata": {},
   "source": [
    "3.\tImport the required packages"
   ]
  },
  {
   "cell_type": "code",
   "execution_count": 62,
   "id": "297b1e92-5e76-4e59-8085-d1ac23ff1c4f",
   "metadata": {},
   "outputs": [],
   "source": [
    "import pandas as pd\n",
    "import numpy as np\n",
    "import matplotlib.pyplot as plt\n",
    "import seaborn as sns"
   ]
  },
  {
   "cell_type": "markdown",
   "id": "3f81942c-9dbe-43e8-90fa-ba3e6be8389a",
   "metadata": {},
   "source": [
    "4. Using the pandas `read_csv()` method, read the GDP dataset into your notebook as a DataFrame called `gdp_df`. Take a look at the first few and last few rows to familiarize yourself with what is contained in this dataset."
   ]
  },
  {
   "cell_type": "code",
   "execution_count": 63,
   "id": "9258fe6d-6afa-462f-8197-c484f97cf4c7",
   "metadata": {},
   "outputs": [],
   "source": [
    "gdp_df = pd.read_csv('../data/gdp_percapita.csv')"
   ]
  },
  {
   "cell_type": "code",
   "execution_count": 64,
   "id": "4f7d41ed-7180-4438-9815-32677b8f109f",
   "metadata": {},
   "outputs": [
    {
     "name": "stdout",
     "output_type": "stream",
     "text": [
      "  Country or Area  Year        Value  Value Footnotes\n",
      "0     Afghanistan  2023  1992.424394              NaN\n",
      "1     Afghanistan  2022  1981.710168              NaN\n",
      "2     Afghanistan  2021  2144.166570              NaN\n",
      "3     Afghanistan  2020  2769.685745              NaN\n",
      "4     Afghanistan  2019  2927.245144              NaN\n"
     ]
    }
   ],
   "source": [
    "print(gdp_df.head())"
   ]
  },
  {
   "cell_type": "code",
   "execution_count": 65,
   "id": "2d6ef5e2-b43c-4cfd-9dd2-edfa29b10fe1",
   "metadata": {},
   "outputs": [
    {
     "name": "stdout",
     "output_type": "stream",
     "text": [
      "     Country or Area  Year        Value  Value Footnotes\n",
      "8214        Zimbabwe  1994  3965.730986              NaN\n",
      "8215        Zimbabwe  1993  3634.750494              NaN\n",
      "8216        Zimbabwe  1992  3649.891947              NaN\n",
      "8217        Zimbabwe  1991  4126.405247              NaN\n",
      "8218        Zimbabwe  1990  4013.299059              NaN\n"
     ]
    }
   ],
   "source": [
    "print(gdp_df.tail(5))"
   ]
  },
  {
   "cell_type": "markdown",
   "id": "728cd96e-d530-4ddc-a298-b1218d1cdc93",
   "metadata": {},
   "source": [
    "5. How many rows and columns are in `gdp_df`? What are the data types of each column?"
   ]
  },
  {
   "cell_type": "code",
   "execution_count": 24,
   "id": "f14fe0c6-bc1a-4f2b-a736-ffacdfffbe05",
   "metadata": {},
   "outputs": [
    {
     "name": "stdout",
     "output_type": "stream",
     "text": [
      "<class 'pandas.core.frame.DataFrame'>\n",
      "RangeIndex: 8219 entries, 0 to 8218\n",
      "Data columns (total 4 columns):\n",
      " #   Column           Non-Null Count  Dtype  \n",
      "---  ------           --------------  -----  \n",
      " 0   Country or Area  8219 non-null   object \n",
      " 1   Year             8219 non-null   int64  \n",
      " 2   Value            8219 non-null   float64\n",
      " 3   Value Footnotes  0 non-null      float64\n",
      "dtypes: float64(2), int64(1), object(1)\n",
      "memory usage: 257.0+ KB\n",
      "None\n"
     ]
    }
   ],
   "source": [
    "print(gdp_df.info())"
   ]
  },
  {
   "cell_type": "code",
   "execution_count": 69,
   "id": "1dad357c-955d-4b8e-a7ff-ff82d22ffaac",
   "metadata": {},
   "outputs": [
    {
     "name": "stdout",
     "output_type": "stream",
     "text": [
      "(8219, 4)\n"
     ]
    }
   ],
   "source": [
    "print(gdp_df.shape)"
   ]
  },
  {
   "cell_type": "markdown",
   "id": "6cc07c62-1a58-4460-affa-0635d5c2190e",
   "metadata": {},
   "source": [
    "6. Drop the `Value Footnotes` column and rename the remaining three to 'Country', 'Year', and 'GDP_Per_Capita'."
   ]
  },
  {
   "cell_type": "code",
   "execution_count": 26,
   "id": "92534803-32f6-44b0-a308-51aba463cdeb",
   "metadata": {},
   "outputs": [],
   "source": [
    "gdp_df = gdp_df.drop(columns=['Value Footnotes'])"
   ]
  },
  {
   "cell_type": "code",
   "execution_count": 68,
   "id": "9999fda7-fed3-4798-980e-8edfd5df116d",
   "metadata": {},
   "outputs": [],
   "source": [
    "gdp_df = gdp_df.rename(columns={'Country or Area' : 'Country', 'Year': 'Year', 'Value' : 'GDP_Per_Capita'})"
   ]
  },
  {
   "cell_type": "markdown",
   "id": "a643d959-eab3-430b-8564-371173115c9f",
   "metadata": {},
   "source": [
    "7. How many countries have data for all years? Which countries are missing many years of data? Look at the number of observations per year. What do you notice? "
   ]
  },
  {
   "cell_type": "markdown",
   "id": "5800d017-788d-4ad7-a771-7521399c8aee",
   "metadata": {},
   "source": [
    "247 unique countries and 34 unique years"
   ]
  },
  {
   "cell_type": "code",
   "execution_count": 70,
   "id": "568413d0-396d-436f-817a-9130d7fe6514",
   "metadata": {},
   "outputs": [
    {
     "name": "stdout",
     "output_type": "stream",
     "text": [
      "34\n"
     ]
    }
   ],
   "source": [
    "unique_years = gdp_df['Year'].nunique()\n",
    "\n",
    "print(unique_years)"
   ]
  },
  {
   "cell_type": "code",
   "execution_count": 71,
   "id": "ad894b01-985c-4928-ab25-b6cc085e1a8a",
   "metadata": {},
   "outputs": [
    {
     "name": "stdout",
     "output_type": "stream",
     "text": [
      "Country\n",
      "Afghanistan                    24\n",
      "Africa Eastern and Southern    34\n",
      "Africa Western and Central     34\n",
      "Albania                        34\n",
      "Algeria                        34\n",
      "                               ..\n",
      "Virgin Islands                 21\n",
      "West Bank and Gaza             30\n",
      "World                          34\n",
      "Zambia                         34\n",
      "Zimbabwe                       34\n",
      "Name: Year, Length: 247, dtype: int64\n"
     ]
    }
   ],
   "source": [
    "countries_years = gdp_df.groupby('Country')['Year'].nunique()\n",
    "\n",
    "print(countries_years)"
   ]
  },
  {
   "cell_type": "code",
   "execution_count": 72,
   "id": "b94a7597-2f71-40fe-94f8-868fe77cc805",
   "metadata": {},
   "outputs": [
    {
     "name": "stdout",
     "output_type": "stream",
     "text": [
      "Country\n",
      "Africa Eastern and Southern    34\n",
      "Africa Western and Central     34\n",
      "Albania                        34\n",
      "Algeria                        34\n",
      "Andorra                        34\n",
      "                               ..\n",
      "Vanuatu                        34\n",
      "Viet Nam                       34\n",
      "World                          34\n",
      "Zambia                         34\n",
      "Zimbabwe                       34\n",
      "Name: Year, Length: 228, dtype: int64\n"
     ]
    }
   ],
   "source": [
    "countries_with_all_years = countries_years[countries_years == unique_years]\n",
    "\n",
    "print(countries_with_all_years)"
   ]
  },
  {
   "cell_type": "markdown",
   "id": "d267eff7-184a-4f1b-85e6-ee1dc22516d8",
   "metadata": {},
   "source": [
    "228 countries with all years"
   ]
  },
  {
   "cell_type": "code",
   "execution_count": 73,
   "id": "c804d00b-d9de-45eb-adc6-cfaa30058929",
   "metadata": {},
   "outputs": [
    {
     "name": "stdout",
     "output_type": "stream",
     "text": [
      "Country\n",
      "Afghanistan                  24\n",
      "Bhutan                       33\n",
      "Cayman Islands               18\n",
      "CuraÃ§ao                     24\n",
      "Djibouti                     11\n",
      "Faroe Islands                16\n",
      "Greenland                    32\n",
      "Kosovo                       16\n",
      "Lebanon                      33\n",
      "Montenegro                   27\n",
      "San Marino                   26\n",
      "Serbia                       29\n",
      "Sint Maarten (Dutch part)    15\n",
      "Somalia                      33\n",
      "Syrian Arab Republic         33\n",
      "Tonga                        33\n",
      "Turks and Caicos Islands     13\n",
      "Virgin Islands               21\n",
      "West Bank and Gaza           30\n",
      "Name: Year, dtype: int64\n"
     ]
    }
   ],
   "source": [
    "countries_missing_years = countries_years[countries_years < unique_years]\n",
    "\n",
    "print(countries_missing_years)"
   ]
  },
  {
   "cell_type": "code",
   "execution_count": 74,
   "id": "cc6f142f-b7fa-4ff5-bace-adf2d97ae25b",
   "metadata": {},
   "outputs": [
    {
     "name": "stdout",
     "output_type": "stream",
     "text": [
      "      Country  GDP_Per_Capita  Value Footnotes\n",
      "Year                                          \n",
      "1990      233             233                0\n",
      "1991      234             234                0\n",
      "1992      234             234                0\n",
      "1993      234             234                0\n",
      "1994      235             235                0\n",
      "1995      236             236                0\n",
      "1996      236             236                0\n",
      "1997      238             238                0\n",
      "1998      238             238                0\n",
      "1999      238             238                0\n",
      "2000      240             240                0\n",
      "2001      240             240                0\n",
      "2002      241             241                0\n",
      "2003      241             241                0\n",
      "2004      241             241                0\n",
      "2005      241             241                0\n",
      "2006      242             242                0\n",
      "2007      242             242                0\n",
      "2008      244             244                0\n",
      "2009      245             245                0\n",
      "2010      245             245                0\n",
      "2011      246             246                0\n",
      "2012      246             246                0\n",
      "2013      247             247                0\n",
      "2014      247             247                0\n",
      "2015      247             247                0\n",
      "2016      247             247                0\n",
      "2017      247             247                0\n",
      "2018      247             247                0\n",
      "2019      247             247                0\n",
      "2020      247             247                0\n",
      "2021      247             247                0\n",
      "2022      246             246                0\n",
      "2023      240             240                0\n"
     ]
    }
   ],
   "source": [
    "gdp_observations_per_year=gdp_df.groupby('Year').count()\n",
    "\n",
    "print(gdp_observations_per_year)"
   ]
  },
  {
   "cell_type": "markdown",
   "id": "8e3ceafb-96bc-474c-9ad7-4d72af5a5290",
   "metadata": {},
   "source": [
    "\".count()\" counts non-NaN values in each column, not the rows themselves. So, it will give you the count of non-null values in each column for every group.\n",
    "It returns one count per column that exists in the group (after grouping), so if you have 3 columns (Country, Year, GDP_Per_Capita), you will get 3 counts: one for each column (i.e., it will tell you how many non-NaN values exist in each of these columns for each group)."
   ]
  },
  {
   "cell_type": "code",
   "execution_count": 75,
   "id": "dc372ef9-e96b-41f8-a76f-dd3d10d91d44",
   "metadata": {},
   "outputs": [
    {
     "name": "stdout",
     "output_type": "stream",
     "text": [
      "Year\n",
      "1990    233\n",
      "1991    234\n",
      "1992    234\n",
      "1993    234\n",
      "1994    235\n",
      "1995    236\n",
      "1996    236\n",
      "1997    238\n",
      "1998    238\n",
      "1999    238\n",
      "2000    240\n",
      "2001    240\n",
      "2002    241\n",
      "2003    241\n",
      "2004    241\n",
      "2005    241\n",
      "2006    242\n",
      "2007    242\n",
      "2008    244\n",
      "2009    245\n",
      "2010    245\n",
      "2011    246\n",
      "2012    246\n",
      "2013    247\n",
      "2014    247\n",
      "2015    247\n",
      "2016    247\n",
      "2017    247\n",
      "2018    247\n",
      "2019    247\n",
      "2020    247\n",
      "2021    247\n",
      "2022    246\n",
      "2023    240\n",
      "dtype: int64\n"
     ]
    }
   ],
   "source": [
    "gdp_observations_per_year=gdp_df.groupby('Year').size()\n",
    "\n",
    "print(gdp_observations_per_year)"
   ]
  },
  {
   "cell_type": "markdown",
   "id": "6d952341-721e-4a33-b80b-89b56ae93ce8",
   "metadata": {},
   "source": [
    "\".size()\" counts all rows in each group, regardless of whether the values are missing (NaN) or not.\n",
    "It doesn't care about the individual columns in your DataFrame. Instead, it simply counts how many rows (or observations) there are for each group.\n",
    "The result of .size() is a single column containing the row count for each group, as it’s focused on the number of rows rather than column-specific data."
   ]
  },
  {
   "cell_type": "markdown",
   "id": "c32da5eb-4c16-48cd-bb6d-45d55c74431f",
   "metadata": {},
   "source": [
    "Look at the number of observations per year. What do you notice?\n",
    "It looks like 2013 - 2021 have the most consistant volume of data. With the count of entries being 247 across those years. "
   ]
  },
  {
   "cell_type": "markdown",
   "id": "3758a618-e9a8-4e85-a18a-a25805934a48",
   "metadata": {},
   "source": [
    "8. In this question, you're going to create some plots to show the distribution of GDP per capita for the year 2020. Go to the Python Graph Gallery (https://www.python-graph-gallery.com/) and look at the different types of plots under the Distribution section. Create a histogram, a density plot, a boxplot, and a violin plot. What do you notice when you look at these plots? How do the plots compare and what information can you get out of one type that you can't necessarily get out of the others?"
   ]
  },
  {
   "cell_type": "markdown",
   "id": "2ca09817-07d2-4560-bc7c-1088cebee1e6",
   "metadata": {},
   "source": [
    "Histogram \".hist()\""
   ]
  },
  {
   "cell_type": "code",
   "execution_count": 76,
   "id": "751c87c3-73b2-483b-806b-b164670f7b0a",
   "metadata": {},
   "outputs": [
    {
     "data": {
      "image/png": "[encoded data removed]",
      "text/plain": [
       "<Figure size 640x480 with 1 Axes>"
      ]
     },
     "metadata": {},
     "output_type": "display_data"
    }
   ],
   "source": [
    "gdp_df[gdp_df['Year']==2020]['GDP_Per_Capita'].hist(bins=9)\n",
    "\n",
    "plt.show()"
   ]
  },
  {
   "cell_type": "code",
   "execution_count": 77,
   "id": "7cafd1e1-00bf-4b87-aa5d-b3588db5b45c",
   "metadata": {},
   "outputs": [
    {
     "data": {
      "image/png": "[encoded data removed]",
      "text/plain": [
       "<Figure size 640x480 with 1 Axes>"
      ]
     },
     "metadata": {},
     "output_type": "display_data"
    }
   ],
   "source": [
    "gdp_2020 = gdp_df[gdp_df['Year']==2020]\n",
    "\n",
    "gdp_2020_country = gdp_2020.groupby('Country')['GDP_Per_Capita'].mean()\n",
    "\n",
    "gdp_2020_country.hist(bins=9)\n",
    "\n",
    "plt.xlabel('GDP_Per_Capita')\n",
    "plt.ylabel('Frequency')\n",
    "plt.title('Distribution of Mean GDP per Capita by Country in 2020')\n",
    "\n",
    "plt.show()"
   ]
  },
  {
   "cell_type": "markdown",
   "id": "80549706-64c2-45ed-8b7f-bb5cb5f4b30a",
   "metadata": {},
   "source": [
    "Grouping by country doesn't appear to change the histogram for 2020. \n",
    "\n",
    "Researched what bins were and the best way to determine the number of bins to use. \n",
    "\n",
    "Bins: Bins are essentially categories or intervals that divide the range of your data into smaller, non-overlapping segments. The height of each bar in the histogram corresponds to the number of data points that fall within that particular bin. Imagine you have a dataset of student ages. You could create bins like: 0-5, 6-10, 11-15, etc. Then, each bar in the histogram would represent the number of students within each age range. \n",
    "\n",
    "best way to determine the number of bins to use:  Square Root Rule or Sturges' Rule.\n",
    "Square Root Rule:  Number of bins = ⌈√n⌉\n",
    "32 bins with the square root rule having 247 data points in 2020\n",
    "\n",
    "Used Sturges' Rule to determine the number of bins:\n",
    "Sturges' Rule gives you the number of bins based on the size of your dataset. The formula is: Number of bins = 1 + log2(n)\n",
    "9 bins using Sturges' Rule having 247 data points in 2020\n",
    "- look up Step-by-Step Calculation for Sturges' Rule -"
   ]
  },
  {
   "cell_type": "markdown",
   "id": "9beb0b1c-ed04-4f71-93cc-b3b441c92ac2",
   "metadata": {},
   "source": [
    "Density plot:\n",
    "Is a way to represent the distribution of a dataset in a smooth curve, rather than a histogram, which is a stepped approximation. The KDE gives you a continuous curve that provides a better sense of the data’s underlying distribution.\n",
    "Makes it easier to see the mean or median, the spread of the data, and the presence of any multimodal behavior (i.e., multiple peaks).\n",
    "Helps in Comparing Distributions: KDE plots can also be useful when comparing the distributions of multiple variables or datasets in one plot (e.g., comparing two different years or two different groups). You can overlay multiple KDEs to understand how the distributions of different data sets compare.\n",
    "It works by placing a small \"bump\" (kernel) at each data point and then summing the contributions of all the bumps to get a smooth curve.\n",
    "shade: If True, fills the area under the KDE curve with the color specified. It's useful for emphasizing the area under the curve.\n",
    "bw_adjust: This controls the bandwidth of the kernel. The bandwidth determines the smoothness of the curve. A smaller value results in a more sensitive curve (with more peaks), while a larger value results in a smoother curve.\n",
    "vertical: If True, plots the KDE vertically.\n",
    "legend: If True, includes a legend for multiple KDE plots.\n",
    "fill: If True, fills the area under the curve."
   ]
  },
  {
   "cell_type": "code",
   "execution_count": 91,
   "id": "bbd16720-04a6-4a75-bb7f-98849a32e7d8",
   "metadata": {},
   "outputs": [
    {
     "data": {
      "image/png": "[encoded data removed]",
      "text/plain": [
       "<Figure size 640x480 with 1 Axes>"
      ]
     },
     "metadata": {},
     "output_type": "display_data"
    }
   ],
   "source": [
    "sns.kdeplot(gdp_df[gdp_df['Year'] == 2020]['GDP_Per_Capita'], color='blue', fill=True, bw_adjust=1)\n",
    "\n",
    "plt.xlabel('GDP_Per_Capita')\n",
    "plt.ylabel('Frequency')\n",
    "plt.title('Distribution of GDP per Capita by Country in 2020')\n",
    "\n",
    "plt.show()"
   ]
  },
  {
   "cell_type": "markdown",
   "id": "5b560514-86ab-4d83-8063-3f765f973454",
   "metadata": {},
   "source": [
    "Violin plot:\n",
    "\n",
    "A violin plot is a visualization tool for understanding the distribution of a continuous variable across different categories (or groups). It combines aspects of both a box plot and a kernel density estimate (KDE) plot, making it highly informative.\n",
    "\n",
    "A violin plot provides a smooth density curve. This curve shows you the full distribution of the data and can reveal insights like skewness, bimodal distributions, and outliers. Understand the underlying distribution of a dataset, not just summary statistics.\n",
    "\n",
    "Compare the distribution of a continuous variable across multiple categories (e.g., comparing the income distribution across different regions)."
   ]
  },
  {
   "cell_type": "code",
   "execution_count": 110,
   "id": "2c608e50-e6f2-4b37-b61d-63e45e3f328f",
   "metadata": {},
   "outputs": [
    {
     "data": {
      "image/png": "[encoded data removed]",
      "text/plain": [
       "<Figure size 640x480 with 1 Axes>"
      ]
     },
     "metadata": {},
     "output_type": "display_data"
    }
   ],
   "source": [
    "gdp_2020 = gdp_df[gdp_df['Year'] == 2020]\n",
    "\n",
    "sns.violinplot(y=\"GDP_Per_Capita\", data=gdp_2020)\n",
    "\n",
    "plt.show()"
   ]
  },
  {
   "cell_type": "markdown",
   "id": "a35c4d7d-1d5a-41ee-acb4-a6b4e270b260",
   "metadata": {},
   "source": [
    "9. What was the median GDP per capita value in 2020?"
   ]
  },
  {
   "cell_type": "code",
   "execution_count": 116,
   "id": "2ca01876-8916-4c7a-a4af-6b116065fcb4",
   "metadata": {},
   "outputs": [
    {
     "name": "stdout",
     "output_type": "stream",
     "text": [
      "15309.24\n"
     ]
    }
   ],
   "source": [
    "gdp_2020 = gdp_df[gdp_df['Year'] == 2020]\n",
    "\n",
    "median_gdp_2020 = round(gdp_2020['GDP_Per_Capita'].median(),2)\n",
    "\n",
    "print(median_gdp_2020)"
   ]
  },
  {
   "cell_type": "markdown",
   "id": "0c97418f-0663-4224-963d-a0549576142c",
   "metadata": {},
   "source": [
    "GDP per capita= Gross Domestic Product (GDP)/Population"
   ]
  },
  {
   "cell_type": "markdown",
   "id": "bcf5e38b-de3d-450e-9770-061429b3d07a",
   "metadata": {},
   "source": [
    "10. For this question, you're going to create some visualizations to compare GDP per capita values for the years 1990, 2000, 2010, and 2020. Start by subsetting your data to just these 4 years into a new DataFrame named gdp_decades. Using this, create the following 4 plots:\n",
    "\t* A boxplot\n",
    "\t* A barplot (check out the Barplot with Seaborn section: https://www.python-graph-gallery.com/barplot/#Seaborn)\n",
    "\t* A scatterplot\n",
    "\t* A scatterplot with a trend line overlaid (see this regplot example: https://www.python-graph-gallery.com/42-custom-linear-regression-fit-seaborn)  \n",
    "Comment on what you observe has happened to GDP values over time and the relative strengths and weaknesses of each type of plot."
   ]
  },
  {
   "cell_type": "code",
   "execution_count": null,
   "id": "ac573f74-8b40-459e-aa69-3b4d17361444",
   "metadata": {},
   "outputs": [],
   "source": []
  },
  {
   "cell_type": "markdown",
   "id": "1c27732b-3d5a-4d2d-9d79-39512f2d911c",
   "metadata": {},
   "source": [
    "11. Which country was the first to have a GDP per capita greater than $100,000?"
   ]
  },
  {
   "cell_type": "code",
   "execution_count": null,
   "id": "a9c6cfc6-ed36-4539-8373-01b1f259cc55",
   "metadata": {},
   "outputs": [],
   "source": []
  },
  {
   "cell_type": "markdown",
   "id": "85cfdbf6-a043-44a9-b036-382100bdb6c2",
   "metadata": {},
   "source": [
    "12. Which country had the highest GDP per capita in 2020? Create a plot showing how this country's GDP per capita has changed over the timespan of the dataset."
   ]
  },
  {
   "cell_type": "code",
   "execution_count": null,
   "id": "7cec905c-4394-4547-a999-bd78149185e2",
   "metadata": {},
   "outputs": [],
   "source": []
  }
 ],
 "metadata": {
  "kernelspec": {
   "display_name": "Python 3 (ipykernel)",
   "language": "python",
   "name": "python3"
  },
  "language_info": {
   "codemirror_mode": {
    "name": "ipython",
    "version": 3
   },
   "file_extension": ".py",
   "mimetype": "text/x-python",
   "name": "python",
   "nbconvert_exporter": "python",
   "pygments_lexer": "ipython3",
   "version": "3.12.7"
  }
 },
 "nbformat": 4,
 "nbformat_minor": 5
}
